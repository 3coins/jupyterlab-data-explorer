{
 "cells": [
  {
   "cell_type": "markdown",
   "metadata": {},
   "source": [
    "### Import the dataset class"
   ]
  },
  {
   "cell_type": "code",
   "execution_count": null,
   "metadata": {},
   "outputs": [],
   "source": [
    "from jupyterlab_dataregistry import dataset"
   ]
  },
  {
   "cell_type": "markdown",
   "metadata": {},
   "source": [
    "### Create a new dataset, this will add the dataset to the \"My Datasets\" UI"
   ]
  },
  {
   "cell_type": "code",
   "execution_count": null,
   "metadata": {},
   "outputs": [],
   "source": [
    "dataset.Dataset(\n",
    "    id=\"0\",\n",
    "    abstract_data_type=\"tabular\",\n",
    "    serialization_type=\"tsv\",\n",
    "    storage_type=\"immemory\",\n",
    "    title=\"In memory dataset from python\",\n",
    "    description=\"In memory dataset from python\",\n",
    "    value=\"header1\\theader2\\nvalue1\\tvalue2\",\n",
    "    metadata={\n",
    "        \"delimiter\": \"\\t\",\n",
    "        \"lineDemiliter\": \"\\n\"\n",
    "    }\n",
    ")"
   ]
  }
 ],
 "metadata": {
  "language_info": {
   "name": "python"
  },
  "orig_nbformat": 4
 },
 "nbformat": 4,
 "nbformat_minor": 2
}
